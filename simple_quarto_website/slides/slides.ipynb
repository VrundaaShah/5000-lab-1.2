{
 "cells": [
  {
   "cell_type": "markdown",
   "metadata": { "code_folding": {
    "collapsed": true
  }},
   "source": [
    "---\n",
    "title: \"Habits\"\n",
    "author: \"John Doe\"\n",
    "format: revealjs\n",
    "---\n",
    "\n",
    "## Slide 1\n",
    "\n",
    "- Hustle\n",
    "- Dont give up\n",
    "- Cite a reference: [@Author2023]\n",
    "\n",
    "## Slide 2\n",
    "\n",
    "- You got this\n",
    "- Push through\n",
    "- ![Image 1](slides/image1.jpg)\n",
    "\n",
    "## Slide 3\n",
    "\n",
    "- Make coffee\n",
    "- Work\n",
    "- ![Image 2](slides/image2.jpg)"
   ]
  }
 ],
 "metadata": {
  "language_info": {
   "name": "python"
  },
  "orig_nbformat": 4
 },
 "nbformat": 4,
 "nbformat_minor": 2
}
